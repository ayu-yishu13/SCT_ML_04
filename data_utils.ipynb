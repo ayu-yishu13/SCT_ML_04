{
 "cells": [
  {
   "cell_type": "code",
   "execution_count": 1,
   "id": "24dacddd-832e-4c17-bec8-ce602e75c775",
   "metadata": {},
   "outputs": [],
   "source": [
    "import os\n",
    "import cv2\n",
    "import numpy as np\n",
    "\n",
    "def load_dataset(base_path, img_size=64, max_per_class=50):\n",
    "    X, y = [], []\n",
    "    categories = sorted(os.listdir(base_path))\n",
    "\n",
    "    for label, gesture_folder in enumerate(categories):\n",
    "        gesture_path = os.path.join(base_path, gesture_folder)\n",
    "        if not os.path.isdir(gesture_path):\n",
    "            continue\n",
    "\n",
    "        images = os.listdir(gesture_path)[:max_per_class]  # limit to avoid OOM\n",
    "        for img_name in images:\n",
    "            img_path = os.path.join(gesture_path, img_name)\n",
    "            try:\n",
    "                img = cv2.imread(img_path, cv2.IMREAD_GRAYSCALE)\n",
    "                img = cv2.resize(img, (img_size, img_size))\n",
    "                X.append(img)\n",
    "                y.append(label)\n",
    "            except:\n",
    "                print(\"❌ Error loading image:\", img_path)\n",
    "\n",
    "    X = np.array(X) / 255.0  # Normalize\n",
    "    X = X.reshape(len(X), -1)  # Flatten\n",
    "    y = np.array(y)\n",
    "\n",
    "    return X, y\n"
   ]
  },
  {
   "cell_type": "code",
   "execution_count": null,
   "id": "97942f47-19d2-404b-ac67-4c80fb2862ce",
   "metadata": {},
   "outputs": [],
   "source": []
  }
 ],
 "metadata": {
  "kernelspec": {
   "display_name": "Python 3 (ipykernel)",
   "language": "python",
   "name": "python3"
  },
  "language_info": {
   "codemirror_mode": {
    "name": "ipython",
    "version": 3
   },
   "file_extension": ".py",
   "mimetype": "text/x-python",
   "name": "python",
   "nbconvert_exporter": "python",
   "pygments_lexer": "ipython3",
   "version": "3.12.7"
  }
 },
 "nbformat": 4,
 "nbformat_minor": 5
}
