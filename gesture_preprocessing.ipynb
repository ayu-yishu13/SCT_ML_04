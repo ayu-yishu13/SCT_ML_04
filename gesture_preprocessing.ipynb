{
 "cells": [
  {
   "cell_type": "code",
   "execution_count": 22,
   "id": "6db9c1dd-e113-4cfd-9fd8-024b2602c81e",
   "metadata": {},
   "outputs": [],
   "source": [
    "import os\n",
    "import numpy as np\n",
    "import matplotlib.pyplot as plt\n",
    "import cv2\n",
    "from sklearn.model_selection import train_test_split\n",
    "from tensorflow.keras.utils import to_categorical\n"
   ]
  },
  {
   "cell_type": "code",
   "execution_count": 34,
   "id": "ce24d638-9bef-4047-b725-e3f7b320d6a8",
   "metadata": {},
   "outputs": [],
   "source": [
    "import sys\n",
    "import os\n",
    "\n",
    "# Add the utils folder to the path\n",
    "sys.path.append(os.path.abspath(\"utils\"))\n"
   ]
  },
  {
   "cell_type": "code",
   "execution_count": 23,
   "id": "4c11a319-98d6-4c0f-a98d-baeea0e0ab90",
   "metadata": {},
   "outputs": [
    {
     "name": "stdout",
     "output_type": "stream",
     "text": [
      "Classes found: ['leapGestRecog']\n"
     ]
    }
   ],
   "source": [
    "data_dir = \"dataset\"\n",
    "categories = os.listdir(data_dir)\n",
    "print(\"Classes found:\", categories)\n"
   ]
  },
  {
   "cell_type": "code",
   "execution_count": 24,
   "id": "47c7eb0c-35f4-4bf8-b82d-4f9fde8fea64",
   "metadata": {},
   "outputs": [
    {
     "name": "stdout",
     "output_type": "stream",
     "text": [
      "📌 Current Working Directory: C:\\Users\\HP\\OneDrive\\Desktop\\hand-gesture-recognition\n"
     ]
    }
   ],
   "source": [
    "import os\n",
    "print(\"📌 Current Working Directory:\", os.getcwd())\n"
   ]
  },
  {
   "cell_type": "code",
   "execution_count": 25,
   "id": "58f587a6-38f9-4152-a4b4-e34a5a89e81d",
   "metadata": {},
   "outputs": [
    {
     "name": "stdout",
     "output_type": "stream",
     "text": [
      "Trying to load: dataset/leapGestRecog\\01\\10_down\\frame_01_10_0094.png\n"
     ]
    }
   ],
   "source": [
    "print(\"Trying to load:\", img_path)\n",
    "img = cv2.imread(img_path, cv2.IMREAD_GRAYSCALE)\n"
   ]
  },
  {
   "cell_type": "code",
   "execution_count": 26,
   "id": "1b8d64f7-be67-4fc9-828c-6d7e3406ec5c",
   "metadata": {},
   "outputs": [
    {
     "name": "stdout",
     "output_type": "stream",
     "text": [
      "Done loading small dataset 🚀\n",
      "X shape: (500, 64, 64)\n",
      "y shape: (500,)\n"
     ]
    }
   ],
   "source": [
    "import os\n",
    "import cv2\n",
    "import numpy as np\n",
    "from tqdm import tqdm\n",
    "\n",
    "IMG_SIZE = 64\n",
    "X = []\n",
    "y = []\n",
    "\n",
    "data_dir = 'dataset/leapGestRecog'\n",
    "categories = [str(i).zfill(2) for i in range(10)]  # '00', '01', ...\n",
    "\n",
    "for idx, category in enumerate(categories):\n",
    "    folder_path = os.path.join(data_dir, category)\n",
    "    gestures = os.listdir(folder_path)\n",
    "\n",
    "    for gesture in gestures:\n",
    "        gesture_path = os.path.join(folder_path, gesture)\n",
    "        if not os.path.isdir(gesture_path):\n",
    "            continue\n",
    "        \n",
    "        images = os.listdir(gesture_path)[:5]  # LIMIT TO FIRST 5 IMAGES\n",
    "\n",
    "        for img_name in images:\n",
    "            img_path = os.path.join(gesture_path, img_name)\n",
    "            try:\n",
    "                img = cv2.imread(img_path, cv2.IMREAD_GRAYSCALE)\n",
    "                img = cv2.resize(img, (IMG_SIZE, IMG_SIZE))\n",
    "                X.append(img)\n",
    "                y.append(idx)\n",
    "            except Exception as e:\n",
    "                print(f\"Error loading image: {img_path}\")\n",
    "\n",
    "X = np.array(X)\n",
    "y = np.array(y)\n",
    "\n",
    "print(\"Done loading small dataset 🚀\")\n",
    "print(f\"X shape: {X.shape}\")\n",
    "print(f\"y shape: {y.shape}\")\n"
   ]
  },
  {
   "cell_type": "code",
   "execution_count": 27,
   "id": "ebd244ba-d4f8-4128-9baa-7a9df0e24041",
   "metadata": {},
   "outputs": [
    {
     "name": "stdout",
     "output_type": "stream",
     "text": [
      "Normalized and reshaped X:\n",
      "X shape: (500, 4096)\n"
     ]
    }
   ],
   "source": [
    "# Normalize pixel values (0–255) → (0–1)\n",
    "X = X / 255.0\n",
    "\n",
    "# Reshape X for model input (SVM needs 2D: samples x features)\n",
    "X = X.reshape(X.shape[0], -1)\n",
    "\n",
    "print(\"Normalized and reshaped X:\")\n",
    "print(\"X shape:\", X.shape)\n"
   ]
  },
  {
   "cell_type": "code",
   "execution_count": 28,
   "id": "633b0a10-79f4-4e68-8e01-5bedb05ea6b2",
   "metadata": {},
   "outputs": [
    {
     "name": "stdout",
     "output_type": "stream",
     "text": [
      "Data ready for model training ✅\n",
      "Training set: (400, 4096), Test set: (100, 4096)\n"
     ]
    }
   ],
   "source": [
    "import numpy as np\n",
    "from sklearn.model_selection import train_test_split\n",
    "\n",
    "# Convert to NumPy arrays\n",
    "X = np.array(X)\n",
    "y = np.array(y)\n",
    "\n",
    "# Normalize pixel values (0-255) to 0-1\n",
    "X = X / 255.0\n",
    "\n",
    "# Flatten images for SVM (reshape from 64x64 to 4096)\n",
    "X = X.reshape(len(X), -1)\n",
    "\n",
    "# Train-test split\n",
    "X_train, X_test, y_train, y_test = train_test_split(X, y, test_size=0.2, random_state=42)\n",
    "\n",
    "print(\"Data ready for model training ✅\")\n",
    "print(f\"Training set: {X_train.shape}, Test set: {X_test.shape}\")\n"
   ]
  },
  {
   "cell_type": "code",
   "execution_count": 29,
   "id": "b3a88a83-478b-4144-8893-4677f3ca5bc8",
   "metadata": {},
   "outputs": [
    {
     "name": "stdout",
     "output_type": "stream",
     "text": [
      "✅ Model trained and saved as model/svm_model.pkl\n"
     ]
    }
   ],
   "source": [
    "from sklearn.svm import SVC\n",
    "import joblib\n",
    "\n",
    "# Train SVM model\n",
    "clf = SVC(kernel='linear', probability=True)\n",
    "clf.fit(X_train, y_train)\n",
    "\n",
    "# Save the model\n",
    "import os\n",
    "os.makedirs(\"model\", exist_ok=True)  # make sure the model folder exists\n",
    "joblib.dump(clf, \"model/svm_model.pkl\")\n",
    "print(\"✅ Model trained and saved as model/svm_model.pkl\")\n"
   ]
  },
  {
   "cell_type": "code",
   "execution_count": 30,
   "id": "ab0766fc-ba12-4f42-b376-91623688435d",
   "metadata": {},
   "outputs": [
    {
     "name": "stdout",
     "output_type": "stream",
     "text": [
      "✅ Test Accuracy: 0.04\n",
      "\n",
      "📋 Classification Report:\n",
      "              precision    recall  f1-score   support\n",
      "\n",
      "           0       0.00      0.00      0.00        11\n",
      "           1       0.00      0.00      0.00        17\n",
      "           2       0.00      0.00      0.00         5\n",
      "           3       0.00      0.00      0.00         9\n",
      "           4       0.04      1.00      0.08         4\n",
      "           5       0.00      0.00      0.00         6\n",
      "           6       0.00      0.00      0.00        12\n",
      "           7       0.00      0.00      0.00        12\n",
      "           8       0.00      0.00      0.00         9\n",
      "           9       0.00      0.00      0.00        15\n",
      "\n",
      "    accuracy                           0.04       100\n",
      "   macro avg       0.00      0.10      0.01       100\n",
      "weighted avg       0.00      0.04      0.00       100\n",
      "\n"
     ]
    },
    {
     "name": "stderr",
     "output_type": "stream",
     "text": [
      "C:\\Users\\HP\\anaconda3\\Lib\\site-packages\\sklearn\\metrics\\_classification.py:1531: UndefinedMetricWarning: Precision is ill-defined and being set to 0.0 in labels with no predicted samples. Use `zero_division` parameter to control this behavior.\n",
      "  _warn_prf(average, modifier, f\"{metric.capitalize()} is\", len(result))\n",
      "C:\\Users\\HP\\anaconda3\\Lib\\site-packages\\sklearn\\metrics\\_classification.py:1531: UndefinedMetricWarning: Precision is ill-defined and being set to 0.0 in labels with no predicted samples. Use `zero_division` parameter to control this behavior.\n",
      "  _warn_prf(average, modifier, f\"{metric.capitalize()} is\", len(result))\n",
      "C:\\Users\\HP\\anaconda3\\Lib\\site-packages\\sklearn\\metrics\\_classification.py:1531: UndefinedMetricWarning: Precision is ill-defined and being set to 0.0 in labels with no predicted samples. Use `zero_division` parameter to control this behavior.\n",
      "  _warn_prf(average, modifier, f\"{metric.capitalize()} is\", len(result))\n"
     ]
    },
    {
     "data": {
      "image/png": "[encoded data removed]",
      "text/plain": [
       "<Figure size 1000x600 with 2 Axes>"
      ]
     },
     "metadata": {},
     "output_type": "display_data"
    }
   ],
   "source": [
    "from sklearn.metrics import accuracy_score, classification_report, confusion_matrix\n",
    "import seaborn as sns\n",
    "import matplotlib.pyplot as plt\n",
    "\n",
    "# Predict on test set\n",
    "y_pred = clf.predict(X_test)\n",
    "\n",
    "# Accuracy\n",
    "acc = accuracy_score(y_test, y_pred)\n",
    "print(\"✅ Test Accuracy:\", acc)\n",
    "\n",
    "# Classification report\n",
    "print(\"\\n📋 Classification Report:\")\n",
    "print(classification_report(y_test, y_pred))\n",
    "\n",
    "# Confusion Matrix\n",
    "conf_matrix = confusion_matrix(y_test, y_pred)\n",
    "plt.figure(figsize=(10, 6))\n",
    "sns.heatmap(conf_matrix, annot=True, fmt='d', cmap='Blues')\n",
    "plt.xlabel(\"Predicted\")\n",
    "plt.ylabel(\"Actual\")\n",
    "plt.title(\"Confusion Matrix\")\n",
    "plt.show()\n"
   ]
  },
  {
   "cell_type": "code",
   "execution_count": 31,
   "id": "bd888620-56fd-49d6-b2cd-310c6e290c81",
   "metadata": {},
   "outputs": [
    {
     "name": "stdout",
     "output_type": "stream",
     "text": [
      "✅ Model saved to 'model/svm_model.pkl'\n"
     ]
    }
   ],
   "source": [
    "import joblib\n",
    "import os\n",
    "\n",
    "# Create model folder if it doesn't exist\n",
    "os.makedirs(\"model\", exist_ok=True)\n",
    "\n",
    "# Save the trained model\n",
    "joblib.dump(clf, \"model/svm_model.pkl\")\n",
    "print(\"✅ Model saved to 'model/svm_model.pkl'\")\n"
   ]
  },
  {
   "cell_type": "code",
   "execution_count": 32,
   "id": "033513ca-1fb2-4bf6-ad85-e92ac485a8f8",
   "metadata": {},
   "outputs": [
    {
     "name": "stdout",
     "output_type": "stream",
     "text": [
      "Predicted gesture class: 4\n"
     ]
    }
   ],
   "source": [
    "def predict_image(img_path, model, img_size=64):\n",
    "    import cv2\n",
    "    img = cv2.imread(img_path, cv2.IMREAD_GRAYSCALE)\n",
    "    img = cv2.resize(img, (img_size, img_size))\n",
    "    img = img.reshape(1, -1) / 255.0\n",
    "    prediction = model.predict(img)[0]\n",
    "    return prediction\n",
    "\n",
    "# Test a sample image\n",
    "sample_path = 'dataset/leapGestRecog/01/01_palm/frame_01_01_0001.png'\n",
    "print(\"Predicted gesture class:\", predict_image(sample_path, clf))\n"
   ]
  },
  {
   "cell_type": "code",
   "execution_count": 41,
   "id": "dca4f0f0-a93a-44bb-aa10-300d1d6b936b",
   "metadata": {},
   "outputs": [
    {
     "name": "stdout",
     "output_type": "stream",
     "text": [
      "❌ Error loading image: dataset/leapGestRecog\\00\\01_palm\n",
      "❌ Error loading image: dataset/leapGestRecog\\00\\02_l\n",
      "❌ Error loading image: dataset/leapGestRecog\\00\\03_fist\n",
      "❌ Error loading image: dataset/leapGestRecog\\00\\04_fist_moved\n",
      "❌ Error loading image: dataset/leapGestRecog\\00\\05_thumb\n",
      "❌ Error loading image: dataset/leapGestRecog\\00\\06_index\n",
      "❌ Error loading image: dataset/leapGestRecog\\00\\07_ok\n",
      "❌ Error loading image: dataset/leapGestRecog\\00\\08_palm_moved\n",
      "❌ Error loading image: dataset/leapGestRecog\\00\\09_c\n",
      "❌ Error loading image: dataset/leapGestRecog\\00\\10_down\n",
      "❌ Error loading image: dataset/leapGestRecog\\01\\01_palm\n",
      "❌ Error loading image: dataset/leapGestRecog\\01\\02_l\n",
      "❌ Error loading image: dataset/leapGestRecog\\01\\03_fist\n",
      "❌ Error loading image: dataset/leapGestRecog\\01\\04_fist_moved\n",
      "❌ Error loading image: dataset/leapGestRecog\\01\\05_thumb\n",
      "❌ Error loading image: dataset/leapGestRecog\\01\\06_index\n",
      "❌ Error loading image: dataset/leapGestRecog\\01\\07_ok\n",
      "❌ Error loading image: dataset/leapGestRecog\\01\\08_palm_moved\n",
      "❌ Error loading image: dataset/leapGestRecog\\01\\09_c\n",
      "❌ Error loading image: dataset/leapGestRecog\\01\\10_down\n",
      "❌ Error loading image: dataset/leapGestRecog\\02\\01_palm\n",
      "❌ Error loading image: dataset/leapGestRecog\\02\\02_l\n",
      "❌ Error loading image: dataset/leapGestRecog\\02\\03_fist\n",
      "❌ Error loading image: dataset/leapGestRecog\\02\\04_fist_moved\n",
      "❌ Error loading image: dataset/leapGestRecog\\02\\05_thumb\n",
      "❌ Error loading image: dataset/leapGestRecog\\02\\06_index\n",
      "❌ Error loading image: dataset/leapGestRecog\\02\\07_ok\n",
      "❌ Error loading image: dataset/leapGestRecog\\02\\08_palm_moved\n",
      "❌ Error loading image: dataset/leapGestRecog\\02\\09_c\n",
      "❌ Error loading image: dataset/leapGestRecog\\02\\10_down\n",
      "❌ Error loading image: dataset/leapGestRecog\\03\\01_palm\n",
      "❌ Error loading image: dataset/leapGestRecog\\03\\02_l\n",
      "❌ Error loading image: dataset/leapGestRecog\\03\\03_fist\n",
      "❌ Error loading image: dataset/leapGestRecog\\03\\04_fist_moved\n",
      "❌ Error loading image: dataset/leapGestRecog\\03\\05_thumb\n",
      "❌ Error loading image: dataset/leapGestRecog\\03\\06_index\n",
      "❌ Error loading image: dataset/leapGestRecog\\03\\07_ok\n",
      "❌ Error loading image: dataset/leapGestRecog\\03\\08_palm_moved\n",
      "❌ Error loading image: dataset/leapGestRecog\\03\\09_c\n",
      "❌ Error loading image: dataset/leapGestRecog\\03\\10_down\n",
      "❌ Error loading image: dataset/leapGestRecog\\04\\01_palm\n",
      "❌ Error loading image: dataset/leapGestRecog\\04\\02_l\n",
      "❌ Error loading image: dataset/leapGestRecog\\04\\03_fist\n",
      "❌ Error loading image: dataset/leapGestRecog\\04\\04_fist_moved\n",
      "❌ Error loading image: dataset/leapGestRecog\\04\\05_thumb\n",
      "❌ Error loading image: dataset/leapGestRecog\\04\\06_index\n",
      "❌ Error loading image: dataset/leapGestRecog\\04\\07_ok\n",
      "❌ Error loading image: dataset/leapGestRecog\\04\\08_palm_moved\n",
      "❌ Error loading image: dataset/leapGestRecog\\04\\09_c\n",
      "❌ Error loading image: dataset/leapGestRecog\\04\\10_down\n",
      "❌ Error loading image: dataset/leapGestRecog\\05\\01_palm\n",
      "❌ Error loading image: dataset/leapGestRecog\\05\\02_l\n",
      "❌ Error loading image: dataset/leapGestRecog\\05\\03_fist\n",
      "❌ Error loading image: dataset/leapGestRecog\\05\\04_fist_moved\n",
      "❌ Error loading image: dataset/leapGestRecog\\05\\05_thumb\n",
      "❌ Error loading image: dataset/leapGestRecog\\05\\06_index\n",
      "❌ Error loading image: dataset/leapGestRecog\\05\\07_ok\n",
      "❌ Error loading image: dataset/leapGestRecog\\05\\08_palm_moved\n",
      "❌ Error loading image: dataset/leapGestRecog\\05\\09_c\n",
      "❌ Error loading image: dataset/leapGestRecog\\05\\10_down\n",
      "❌ Error loading image: dataset/leapGestRecog\\06\\01_palm\n",
      "❌ Error loading image: dataset/leapGestRecog\\06\\02_l\n",
      "❌ Error loading image: dataset/leapGestRecog\\06\\03_fist\n",
      "❌ Error loading image: dataset/leapGestRecog\\06\\04_fist_moved\n",
      "❌ Error loading image: dataset/leapGestRecog\\06\\05_thumb\n",
      "❌ Error loading image: dataset/leapGestRecog\\06\\06_index\n",
      "❌ Error loading image: dataset/leapGestRecog\\06\\07_ok\n",
      "❌ Error loading image: dataset/leapGestRecog\\06\\08_palm_moved\n",
      "❌ Error loading image: dataset/leapGestRecog\\06\\09_c\n",
      "❌ Error loading image: dataset/leapGestRecog\\06\\10_down\n",
      "❌ Error loading image: dataset/leapGestRecog\\07\\01_palm\n",
      "❌ Error loading image: dataset/leapGestRecog\\07\\02_l\n",
      "❌ Error loading image: dataset/leapGestRecog\\07\\03_fist\n",
      "❌ Error loading image: dataset/leapGestRecog\\07\\04_fist_moved\n",
      "❌ Error loading image: dataset/leapGestRecog\\07\\05_thumb\n",
      "❌ Error loading image: dataset/leapGestRecog\\07\\06_index\n",
      "❌ Error loading image: dataset/leapGestRecog\\07\\07_ok\n",
      "❌ Error loading image: dataset/leapGestRecog\\07\\08_palm_moved\n",
      "❌ Error loading image: dataset/leapGestRecog\\07\\09_c\n",
      "❌ Error loading image: dataset/leapGestRecog\\07\\10_down\n",
      "❌ Error loading image: dataset/leapGestRecog\\08\\01_palm\n",
      "❌ Error loading image: dataset/leapGestRecog\\08\\02_l\n",
      "❌ Error loading image: dataset/leapGestRecog\\08\\03_fist\n",
      "❌ Error loading image: dataset/leapGestRecog\\08\\04_fist_moved\n",
      "❌ Error loading image: dataset/leapGestRecog\\08\\05_thumb\n",
      "❌ Error loading image: dataset/leapGestRecog\\08\\06_index\n",
      "❌ Error loading image: dataset/leapGestRecog\\08\\07_ok\n",
      "❌ Error loading image: dataset/leapGestRecog\\08\\08_palm_moved\n",
      "❌ Error loading image: dataset/leapGestRecog\\08\\09_c\n",
      "❌ Error loading image: dataset/leapGestRecog\\08\\10_down\n",
      "❌ Error loading image: dataset/leapGestRecog\\09\\01_palm\n",
      "❌ Error loading image: dataset/leapGestRecog\\09\\02_l\n",
      "❌ Error loading image: dataset/leapGestRecog\\09\\03_fist\n",
      "❌ Error loading image: dataset/leapGestRecog\\09\\04_fist_moved\n",
      "❌ Error loading image: dataset/leapGestRecog\\09\\05_thumb\n",
      "❌ Error loading image: dataset/leapGestRecog\\09\\06_index\n",
      "❌ Error loading image: dataset/leapGestRecog\\09\\07_ok\n",
      "❌ Error loading image: dataset/leapGestRecog\\09\\08_palm_moved\n",
      "❌ Error loading image: dataset/leapGestRecog\\09\\09_c\n",
      "❌ Error loading image: dataset/leapGestRecog\\09\\10_down\n"
     ]
    },
    {
     "ename": "ValueError",
     "evalue": "cannot reshape array of size 0 into shape (0,newaxis)",
     "output_type": "error",
     "traceback": [
      "\u001b[1;31m---------------------------------------------------------------------------\u001b[0m",
      "\u001b[1;31mValueError\u001b[0m                                Traceback (most recent call last)",
      "Cell \u001b[1;32mIn[41], line 7\u001b[0m\n\u001b[0;32m      4\u001b[0m sys\u001b[38;5;241m.\u001b[39mpath\u001b[38;5;241m.\u001b[39mappend(os\u001b[38;5;241m.\u001b[39mpath\u001b[38;5;241m.\u001b[39mabspath(\u001b[38;5;124m\"\u001b[39m\u001b[38;5;124mutils\u001b[39m\u001b[38;5;124m\"\u001b[39m))\n\u001b[0;32m      5\u001b[0m \u001b[38;5;28;01mfrom\u001b[39;00m \u001b[38;5;21;01mdata_utils\u001b[39;00m \u001b[38;5;28;01mimport\u001b[39;00m load_dataset\n\u001b[1;32m----> 7\u001b[0m X, y \u001b[38;5;241m=\u001b[39m \u001b[43mload_dataset\u001b[49m\u001b[43m(\u001b[49m\u001b[38;5;124;43m\"\u001b[39;49m\u001b[38;5;124;43mdataset/leapGestRecog\u001b[39;49m\u001b[38;5;124;43m\"\u001b[39;49m\u001b[43m,\u001b[49m\u001b[43m \u001b[49m\u001b[43mimg_size\u001b[49m\u001b[38;5;241;43m=\u001b[39;49m\u001b[38;5;241;43m64\u001b[39;49m\u001b[43m,\u001b[49m\u001b[43m \u001b[49m\u001b[43mmax_per_class\u001b[49m\u001b[38;5;241;43m=\u001b[39;49m\u001b[38;5;241;43m50\u001b[39;49m\u001b[43m)\u001b[49m\n\u001b[0;32m      8\u001b[0m \u001b[38;5;28mprint\u001b[39m(\u001b[38;5;124m\"\u001b[39m\u001b[38;5;124m✅ Loaded from utils!\u001b[39m\u001b[38;5;124m\"\u001b[39m)\n\u001b[0;32m      9\u001b[0m \u001b[38;5;28mprint\u001b[39m(\u001b[38;5;124m\"\u001b[39m\u001b[38;5;124mX shape:\u001b[39m\u001b[38;5;124m\"\u001b[39m, X\u001b[38;5;241m.\u001b[39mshape)\n",
      "File \u001b[1;32m~\\OneDrive\\Desktop\\hand-gesture-recognition\\utils\\data_utils.py:26\u001b[0m, in \u001b[0;36mload_dataset\u001b[1;34m(base_path, img_size, max_per_class)\u001b[0m\n\u001b[0;32m     23\u001b[0m             \u001b[38;5;28mprint\u001b[39m(\u001b[38;5;124m\"\u001b[39m\u001b[38;5;124m❌ Error loading image:\u001b[39m\u001b[38;5;124m\"\u001b[39m, img_path)\n\u001b[0;32m     25\u001b[0m X \u001b[38;5;241m=\u001b[39m np\u001b[38;5;241m.\u001b[39marray(X) \u001b[38;5;241m/\u001b[39m \u001b[38;5;241m255.0\u001b[39m  \u001b[38;5;66;03m# Normalize\u001b[39;00m\n\u001b[1;32m---> 26\u001b[0m X \u001b[38;5;241m=\u001b[39m \u001b[43mX\u001b[49m\u001b[38;5;241;43m.\u001b[39;49m\u001b[43mreshape\u001b[49m\u001b[43m(\u001b[49m\u001b[38;5;28;43mlen\u001b[39;49m\u001b[43m(\u001b[49m\u001b[43mX\u001b[49m\u001b[43m)\u001b[49m\u001b[43m,\u001b[49m\u001b[43m \u001b[49m\u001b[38;5;241;43m-\u001b[39;49m\u001b[38;5;241;43m1\u001b[39;49m\u001b[43m)\u001b[49m  \u001b[38;5;66;03m# Flatten\u001b[39;00m\n\u001b[0;32m     27\u001b[0m y \u001b[38;5;241m=\u001b[39m np\u001b[38;5;241m.\u001b[39marray(y)\n\u001b[0;32m     29\u001b[0m \u001b[38;5;28;01mreturn\u001b[39;00m X, y\n",
      "\u001b[1;31mValueError\u001b[0m: cannot reshape array of size 0 into shape (0,newaxis)"
     ]
    }
   ],
   "source": [
    "import sys\n",
    "import os\n",
    "\n",
    "sys.path.append(os.path.abspath(\"utils\"))\n",
    "from data_utils import load_dataset\n",
    "\n",
    "X, y = load_dataset(\"dataset/leapGestRecog\", img_size=64, max_per_class=50)\n",
    "print(\"✅ Loaded from utils!\")\n",
    "print(\"X shape:\", X.shape)\n",
    "print(\"y shape:\", y.shape)\n"
   ]
  },
  {
   "cell_type": "code",
   "execution_count": 40,
   "id": "097dee25-c317-401c-9f33-56f68751192f",
   "metadata": {},
   "outputs": [],
   "source": [
    "import sys\n",
    "import os\n",
    "sys.path.append(os.path.abspath(\"utils\"))\n",
    "\n",
    "from data_utils import load_dataset  # Now this should work!\n"
   ]
  },
  {
   "cell_type": "code",
   "execution_count": null,
   "id": "ac636cd1-49a5-45ec-9c2e-79e631c37eac",
   "metadata": {},
   "outputs": [],
   "source": []
  }
 ],
 "metadata": {
  "kernelspec": {
   "display_name": "Python 3 (ipykernel)",
   "language": "python",
   "name": "python3"
  },
  "language_info": {
   "codemirror_mode": {
    "name": "ipython",
    "version": 3
   },
   "file_extension": ".py",
   "mimetype": "text/x-python",
   "name": "python",
   "nbconvert_exporter": "python",
   "pygments_lexer": "ipython3",
   "version": "3.12.7"
  }
 },
 "nbformat": 4,
 "nbformat_minor": 5
}
